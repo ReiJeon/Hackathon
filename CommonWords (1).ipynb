{
 "cells": [
  {
   "cell_type": "code",
   "execution_count": 2,
   "metadata": {},
   "outputs": [
    {
     "name": "stdout",
     "output_type": "stream",
     "text": [
      "['i', 'me', 'my', 'myself', 'we', 'our', 'ours', 'ourselves', 'you', \"you're\", \"you've\", \"you'll\", \"you'd\", 'your', 'yours', 'yourself', 'yourselves', 'he', 'him', 'his', 'himself', 'she', \"she's\", 'her', 'hers', 'herself', 'it', \"it's\", 'its', 'itself', 'they', 'them', 'their', 'theirs', 'themselves', 'what', 'which', 'who', 'whom', 'this', 'that', \"that'll\", 'these', 'those', 'am', 'is', 'are', 'was', 'were', 'be', 'been', 'being', 'have', 'has', 'had', 'having', 'do', 'does', 'did', 'doing', 'a', 'an', 'the', 'and', 'but', 'if', 'or', 'because', 'as', 'until', 'while', 'of', 'at', 'by', 'for', 'with', 'about', 'against', 'between', 'into', 'through', 'during', 'before', 'after', 'above', 'below', 'to', 'from', 'up', 'down', 'in', 'out', 'on', 'off', 'over', 'under', 'again', 'further', 'then', 'once', 'here', 'there', 'when', 'where', 'why', 'how', 'all', 'any', 'both', 'each', 'few', 'more', 'most', 'other', 'some', 'such', 'no', 'nor', 'not', 'only', 'own', 'same', 'so', 'than', 'too', 'very', 's', 't', 'can', 'will', 'just', 'don', \"don't\", 'should', \"should've\", 'now', 'd', 'll', 'm', 'o', 're', 've', 'y', 'ain', 'aren', \"aren't\", 'couldn', \"couldn't\", 'didn', \"didn't\", 'doesn', \"doesn't\", 'hadn', \"hadn't\", 'hasn', \"hasn't\", 'haven', \"haven't\", 'isn', \"isn't\", 'ma', 'mightn', \"mightn't\", 'mustn', \"mustn't\", 'needn', \"needn't\", 'shan', \"shan't\", 'shouldn', \"shouldn't\", 'wasn', \"wasn't\", 'weren', \"weren't\", 'won', \"won't\", 'wouldn', \"wouldn't\"]\n"
     ]
    },
    {
     "name": "stderr",
     "output_type": "stream",
     "text": [
      "[nltk_data] Downloading package stopwords to\n",
      "[nltk_data]     C:\\Users\\Rei_John\\AppData\\Roaming\\nltk_data...\n",
      "[nltk_data]   Package stopwords is already up-to-date!\n"
     ]
    }
   ],
   "source": [
    "import pandas as pd\n",
    "import re\n",
    "import collections\n",
    "import nltk\n",
    "from nltk.tokenize import sent_tokenize, word_tokenize\n",
    "from nltk.corpus import stopwords\n",
    "main = pd.read_csv('lyrics.csv')\n",
    "nltk.download('stopwords')\n",
    "main1 = main.set_index(\"year\", drop = False)\n",
    "print(stopwords.words('english'))"
   ]
  },
  {
   "cell_type": "code",
   "execution_count": 3,
   "metadata": {},
   "outputs": [],
   "source": [
    "first = main1[(main1.year>1958) & (main1.year<1970)]\n",
    "second = main1[(main1.year>1969) & (main1.year<1980)]\n",
    "third = main1[(main1.year>1979) & (main1.year<1990)]\n",
    "fourth = main1[(main1.year>1989) & (main1.year<2000)]\n",
    "fifth = main1[(main1.year>1999) & (main1.year<2010)]\n",
    "sixth = main1[(main1.year>2009) & (main1.year<2020)]"
   ]
  },
  {
   "cell_type": "code",
   "execution_count": 4,
   "metadata": {},
   "outputs": [
    {
     "data": {
      "text/plain": [
       "str"
      ]
     },
     "execution_count": 4,
     "metadata": {},
     "output_type": "execute_result"
    }
   ],
   "source": [
    "type(fourth['lyrics'].iloc[0])"
   ]
  },
  {
   "cell_type": "code",
   "execution_count": 5,
   "metadata": {},
   "outputs": [],
   "source": [
    "def clean(text):\n",
    "    ### clean a lyric string\n",
    "    # split string into lines\n",
    "    stopw = set(stopwords.words('english'))\n",
    "    if isinstance(text, str):\n",
    "        #print(text)\n",
    "        text = text.split('\\n')\n",
    "        # drop missing lines\n",
    "        text = [i for i in text if i]\n",
    "        # drop bracketed lines (e.g. producer info, song part indicators)\n",
    "        text = [i for i in text if i[0]!='[']\n",
    "        # join back into single string\n",
    "        text = ' '.join(text)\n",
    "        # filter out non-alpha-numeric characters \n",
    "        text = re.sub(r'[^\\s\\w]+', '', text)\n",
    "        # strip capitalization\n",
    "        text = text.lower()\n",
    "        # drop stopwords\n",
    "        text = ' '.join([i for i in text.split() if i not in stopw])\n",
    "    return text"
   ]
  },
  {
   "cell_type": "code",
   "execution_count": 6,
   "metadata": {
    "scrolled": true
   },
   "outputs": [],
   "source": [
    "first2 = first['lyrics'].map(clean)\n",
    "second2 = second['lyrics'].map(clean)\n",
    "third2 = third['lyrics'].map(clean)\n",
    "fourth2 = fourth['lyrics'].map(clean)\n",
    "fifth2 = fifth['lyrics'].map(clean)\n",
    "sixth2 = sixth['lyrics'].map(clean)"
   ]
  },
  {
   "cell_type": "code",
   "execution_count": 8,
   "metadata": {},
   "outputs": [
    {
     "data": {
      "text/plain": [
       "year\n",
       "1959    1814 took little trip along colonel jackson mi...\n",
       "1959    well north carolina way back hills old pappy s...\n",
       "1959    well ive traveler life never took home never t...\n",
       "1959    long ago poor heart broken said crazy heart se...\n",
       "1959    heartache number one left never knew could hur...\n",
       "                              ...                        \n",
       "1969                                                  NaN\n",
       "1969                                                  NaN\n",
       "1969    one name heart one ill remain thats heartaches...\n",
       "1969    delia oh delia long buddys talkin bout delia s...\n",
       "1969                                                  NaN\n",
       "Name: lyrics, Length: 447, dtype: object"
      ]
     },
     "execution_count": 8,
     "metadata": {},
     "output_type": "execute_result"
    }
   ],
   "source": [
    "first2"
   ]
  },
  {
   "cell_type": "code",
   "execution_count": 58,
   "metadata": {},
   "outputs": [],
   "source": [
    "def allwords(corp):\n",
    "    return \" \".join(corp[corp.notnull()].values)\n",
    "allfirst = allwords(first2)\n",
    "allsecond = allwords(second2)\n",
    "allthird = allwords(third2)\n",
    "allfourth = allwords(fourth2)\n",
    "allfifth = allwords(fifth2)\n",
    "allsixth = allwords(sixth2)"
   ]
  },
  {
   "cell_type": "code",
   "execution_count": 60,
   "metadata": {},
   "outputs": [
    {
     "name": "stdout",
     "output_type": "stream",
     "text": [
      "How many most common words to print: 50\n",
      "\n",
      "OK. The 50 most common words are as follows\n",
      "\n",
      "im :  1038\n",
      "dont :  830\n",
      "love :  742\n",
      "like :  740\n",
      "know :  644\n",
      "got :  564\n",
      "get :  489\n",
      "yeah :  478\n",
      "aint :  458\n",
      "time :  440\n",
      "one :  429\n",
      "back :  418\n",
      "baby :  416\n",
      "go :  413\n",
      "way :  406\n",
      "youre :  399\n",
      "oh :  381\n",
      "little :  377\n",
      "ive :  360\n",
      "never :  359\n",
      "right :  338\n",
      "cant :  335\n",
      "thats :  332\n",
      "ill :  323\n",
      "cause :  320\n",
      "day :  318\n",
      "good :  313\n",
      "see :  310\n",
      "said :  303\n",
      "well :  299\n",
      "life :  299\n",
      "say :  296\n",
      "every :  291\n",
      "still :  281\n",
      "man :  279\n",
      "girl :  278\n",
      "gonna :  269\n",
      "think :  265\n",
      "make :  260\n",
      "let :  255\n",
      "need :  254\n",
      "take :  253\n",
      "theres :  249\n",
      "could :  247\n",
      "shes :  245\n",
      "night :  245\n",
      "want :  243\n",
      "heart :  240\n",
      "na :  231\n",
      "wanna :  224\n",
      "[('im', 1038), ('dont', 830), ('love', 742), ('like', 740), ('know', 644), ('got', 564), ('get', 489), ('yeah', 478), ('aint', 458), ('time', 440), ('one', 429), ('back', 418), ('baby', 416), ('go', 413), ('way', 406), ('youre', 399), ('oh', 381), ('little', 377), ('ive', 360), ('never', 359), ('right', 338), ('cant', 335), ('thats', 332), ('ill', 323), ('cause', 320), ('day', 318), ('good', 313), ('see', 310), ('said', 303), ('well', 299), ('life', 299), ('say', 296), ('every', 291), ('still', 281), ('man', 279), ('girl', 278), ('gonna', 269), ('think', 265), ('make', 260), ('let', 255), ('need', 254), ('take', 253), ('theres', 249), ('could', 247), ('shes', 245), ('night', 245), ('want', 243), ('heart', 240), ('na', 231), ('wanna', 224)]\n",
      "      Word  Count\n",
      "0       im   1038\n",
      "1     dont    830\n",
      "2     love    742\n",
      "3     like    740\n",
      "4     know    644\n",
      "5      got    564\n",
      "6      get    489\n",
      "7     yeah    478\n",
      "8     aint    458\n",
      "9     time    440\n",
      "10     one    429\n",
      "11    back    418\n",
      "12    baby    416\n",
      "13      go    413\n",
      "14     way    406\n",
      "15   youre    399\n",
      "16      oh    381\n",
      "17  little    377\n",
      "18     ive    360\n",
      "19   never    359\n",
      "20   right    338\n",
      "21    cant    335\n",
      "22   thats    332\n",
      "23     ill    323\n",
      "24   cause    320\n",
      "25     day    318\n",
      "26    good    313\n",
      "27     see    310\n",
      "28    said    303\n",
      "29    well    299\n",
      "30    life    299\n",
      "31     say    296\n",
      "32   every    291\n",
      "33   still    281\n",
      "34     man    279\n",
      "35    girl    278\n",
      "36   gonna    269\n",
      "37   think    265\n",
      "38    make    260\n",
      "39     let    255\n",
      "40    need    254\n",
      "41    take    253\n",
      "42  theres    249\n",
      "43   could    247\n",
      "44    shes    245\n",
      "45   night    245\n",
      "46    want    243\n",
      "47   heart    240\n",
      "48      na    231\n",
      "49   wanna    224\n"
     ]
    },
    {
     "data": {
      "text/plain": [
       "<matplotlib.axes._subplots.AxesSubplot at 0x17a22b925f8>"
      ]
     },
     "execution_count": 60,
     "metadata": {},
     "output_type": "execute_result"
    },
    {
     "data": {
      "image/png": "[encoded data removed]",
      "text/plain": [
       "<Figure size 432x288 with 1 Axes>"
      ]
     },
     "metadata": {},
     "output_type": "display_data"
    }
   ],
   "source": [
    "import collections\n",
    "import pandas as pd\n",
    "import matplotlib.pyplot as plt\n",
    "%matplotlib inline\n",
    "# Stopwords\n",
    "stopwords = set(line.strip() for line in open('stopwords.txt'))\n",
    "# Instantiate a dictionary, and for every word in the file, \n",
    "# Add to the dictionary if it doesn't exist. If it does, increase the count.\n",
    "\n",
    "# To eliminate duplicates, remember to split by punctuation, and use case demiliters\n",
    "def commonWords(x):\n",
    "    wordcount = {}\n",
    "    i = 0\n",
    "    for word in (x.split(\" \")):\n",
    "        #pint(word)\n",
    "        if word not in wordcount:\n",
    "            wordcount[word] = 1\n",
    "        else:\n",
    "            wordcount[word] += 1\n",
    "        i += 1\n",
    "    return wordcount\n",
    "# Print most common word\n",
    "n_print = int(input(\"How many most common words to print: \"))\n",
    "print(\"\\nOK. The {} most common words are as follows\\n\".format(n_print))\n",
    "word_counter = collections.Counter(commonWords(allwords(fifth2)))\n",
    "for word, count in word_counter.most_common(n_print):\n",
    "    print(word, \": \", count)\n",
    "# Create a data frame of the most common words \n",
    "# Draw a bar chart\n",
    "lst = word_counter.most_common(n_print)\n",
    "print(lst)\n",
    "df = pd.DataFrame(lst, columns = ['Word', 'Count'])\n",
    "print(df)\n",
    "df.plot.bar(x='Word',y='Count')"
   ]
  },
  {
   "cell_type": "code",
   "execution_count": null,
   "metadata": {},
   "outputs": [],
   "source": []
  },
  {
   "cell_type": "code",
   "execution_count": null,
   "metadata": {},
   "outputs": [],
   "source": []
  }
 ],
 "metadata": {
  "kernelspec": {
   "display_name": "Python 3",
   "language": "python",
   "name": "python3"
  },
  "language_info": {
   "codemirror_mode": {
    "name": "ipython",
    "version": 3
   },
   "file_extension": ".py",
   "mimetype": "text/x-python",
   "name": "python",
   "nbconvert_exporter": "python",
   "pygments_lexer": "ipython3",
   "version": "3.6.3"
  }
 },
 "nbformat": 4,
 "nbformat_minor": 2
}
